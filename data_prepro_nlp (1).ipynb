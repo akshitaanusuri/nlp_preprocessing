{
 "cells": [
  {
   "cell_type": "code",
   "execution_count": 108,
   "id": "162ea608-da93-441b-aee5-20d3eb373b07",
   "metadata": {},
   "outputs": [
    {
     "name": "stdout",
     "output_type": "stream",
     "text": [
      "     v1                                                 v2 Unnamed: 2  \\\n",
      "0   ham  Go until jurong point, crazy.. Available only ...        NaN   \n",
      "1   ham                      Ok lar... Joking wif u oni...        NaN   \n",
      "2  spam  Free entry in 2 a wkly comp to win FA Cup fina...        NaN   \n",
      "3   ham  U dun say so early hor... U c already then say...        NaN   \n",
      "4   ham  Nah I don't think he goes to usf, he lives aro...        NaN   \n",
      "\n",
      "  Unnamed: 3 Unnamed: 4  \n",
      "0        NaN        NaN  \n",
      "1        NaN        NaN  \n",
      "2        NaN        NaN  \n",
      "3        NaN        NaN  \n",
      "4        NaN        NaN  \n"
     ]
    }
   ],
   "source": [
    "import pandas as pd\n",
    "\n",
    "\n",
    "df = pd.read_csv(r\"C:\\Users\\akshi\\OneDrive\\Desktop\\051\\nlp_pro_2.csv\", encoding=\"ISO-8859-1\")\n",
    "\n",
    "\n",
    "print(df.head())\n"
   ]
  },
  {
   "cell_type": "code",
   "execution_count": 110,
   "id": "2ed6f62c-e683-4c83-9ad8-49126c096e79",
   "metadata": {},
   "outputs": [
    {
     "name": "stdout",
     "output_type": "stream",
     "text": [
      "Index(['v1', 'v2', 'Unnamed: 2', 'Unnamed: 3', 'Unnamed: 4'], dtype='object')\n"
     ]
    }
   ],
   "source": [
    "print(df.columns)\n",
    "\n"
   ]
  },
  {
   "cell_type": "code",
   "execution_count": 112,
   "id": "15d70c54-0164-4e64-bbfc-9d65deb99684",
   "metadata": {},
   "outputs": [
    {
     "name": "stdout",
     "output_type": "stream",
     "text": [
      "v1               0\n",
      "v2               0\n",
      "Unnamed: 2    5522\n",
      "Unnamed: 3    5560\n",
      "Unnamed: 4    5566\n",
      "dtype: int64\n"
     ]
    }
   ],
   "source": [
    "\n",
    "print(df.isnull().sum())\n"
   ]
  },
  {
   "cell_type": "code",
   "execution_count": 114,
   "id": "ea5bc6d3-0b80-4ab1-8074-cc7120da95ef",
   "metadata": {},
   "outputs": [],
   "source": [
    "\n",
    "df = df.dropna()\n",
    "\n"
   ]
  },
  {
   "cell_type": "code",
   "execution_count": 116,
   "id": "bbc9ba31-7664-4ae9-ba7f-41cffb430650",
   "metadata": {},
   "outputs": [
    {
     "name": "stdout",
     "output_type": "stream",
     "text": [
      "                                                     v2  \\\n",
      "281                                 \\Wen u miss someone   \n",
      "1038  Edison has rightly said, \\A fool can ask more ...   \n",
      "2255      I just lov this line: \\Hurt me with the truth   \n",
      "3525  \\HEY BABE! FAR 2 SPUN-OUT 2 SPK AT DA MO... DE...   \n",
      "4668  When I was born, GOD said, \\Oh No! Another IDI...   \n",
      "\n",
      "                                           cleaned_text  \n",
      "281                                  wen u miss someone  \n",
      "1038  edison has rightly said a fool can ask more qu...  \n",
      "2255        i just lov this line hurt me with the truth  \n",
      "3525  hey babe far  spunout  spk at da mo dead  da w...  \n",
      "4668  when i was born god said oh no another idiot w...  \n"
     ]
    }
   ],
   "source": [
    "import re\n",
    "\n",
    "def clean_text(text):\n",
    "    text = text.lower() \n",
    "    text = re.sub(r'<.*?>', '', text)  \n",
    "    text = re.sub(r'http\\S+|www\\S+|https\\S+', '', text)  \n",
    "    text = re.sub(r'\\S+@\\S+', '', text) \n",
    "    text = re.sub(r'[^A-Za-z\\s]', '', text)  \n",
    "    return text\n",
    "\n",
    "\n",
    "df['cleaned_text'] = df['v2'].apply(clean_text)\n",
    "\n",
    "\n",
    "print(df[['v2', 'cleaned_text']].head())\n"
   ]
  },
  {
   "cell_type": "code",
   "execution_count": 118,
   "id": "68eb3ddf-10e3-4d75-afec-0c5f2bc1aee8",
   "metadata": {},
   "outputs": [
    {
     "name": "stdout",
     "output_type": "stream",
     "text": [
      "v2\n",
      "Edison has rightly said, \\A fool can ask more questions than a wise man can answer\\\" Now you know why all of us are speechless during ViVa.. GM    2\n",
      "\\Wen u miss someone                                                                                                                                1\n",
      "I just lov this line: \\Hurt me with the truth                                                                                                      1\n",
      "\\HEY BABE! FAR 2 SPUN-OUT 2 SPK AT DA MO... DEAD 2 DA WRLD. BEEN SLEEPING ON DA SOFA ALL DAY                                                       1\n",
      "When I was born, GOD said, \\Oh No! Another IDIOT\\\". When you were born                                                                             1\n",
      "Name: count, dtype: int64\n"
     ]
    }
   ],
   "source": [
    "\n",
    "print(df['v2'].value_counts())\n"
   ]
  },
  {
   "cell_type": "code",
   "execution_count": 120,
   "id": "f52527e4-c642-492f-a80b-6c3dd88679b6",
   "metadata": {},
   "outputs": [],
   "source": [
    "X = df['cleaned_text']  \n",
    "y = df['v1'] \n"
   ]
  },
  {
   "cell_type": "code",
   "execution_count": 122,
   "id": "8348366a-a963-4473-9049-e96ce49b21df",
   "metadata": {},
   "outputs": [
    {
     "name": "stdout",
     "output_type": "stream",
     "text": [
      "Training data size: 4\n",
      "Test data size: 2\n"
     ]
    }
   ],
   "source": [
    "from sklearn.model_selection import train_test_split\n",
    "\n",
    "\n",
    "X_train, X_test, y_train, y_test = train_test_split(X, y, test_size=0.2, random_state=42)\n",
    "\n",
    "\n",
    "print(f\"Training data size: {len(X_train)}\")\n",
    "print(f\"Test data size: {len(X_test)}\")\n"
   ]
  },
  {
   "cell_type": "code",
   "execution_count": null,
   "id": "aa6241fb-59b7-4d6f-9912-ba59e638b7be",
   "metadata": {},
   "outputs": [],
   "source": []
  },
  {
   "cell_type": "code",
   "execution_count": null,
   "id": "c3c2b146-f64a-45aa-a9d1-91570e8189b9",
   "metadata": {},
   "outputs": [],
   "source": []
  },
  {
   "cell_type": "code",
   "execution_count": null,
   "id": "b2903243-6d5a-4401-b0cd-c7c7bbfca6d9",
   "metadata": {},
   "outputs": [],
   "source": []
  },
  {
   "cell_type": "code",
   "execution_count": null,
   "id": "ef37310c-7087-4d43-a445-05bb842b0e0e",
   "metadata": {},
   "outputs": [],
   "source": []
  }
 ],
 "metadata": {
  "kernelspec": {
   "display_name": "Python 3 (ipykernel)",
   "language": "python",
   "name": "python3"
  },
  "language_info": {
   "codemirror_mode": {
    "name": "ipython",
    "version": 3
   },
   "file_extension": ".py",
   "mimetype": "text/x-python",
   "name": "python",
   "nbconvert_exporter": "python",
   "pygments_lexer": "ipython3",
   "version": "3.11.7"
  }
 },
 "nbformat": 4,
 "nbformat_minor": 5
}
